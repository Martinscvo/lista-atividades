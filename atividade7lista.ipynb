{
 "cells": [
  {
   "cell_type": "code",
   "execution_count": 29,
   "metadata": {},
   "outputs": [
    {
     "name": "stdout",
     "output_type": "stream",
     "text": [
      "crescente: [20, 40, 50, 60, 70]\n",
      "decrescente: [70, 60, 50, 40, 20]\n",
      "soma e 240 com media 48.0\n"
     ]
    }
   ],
   "source": [
    "lista = [10,20,30,40,50]\n",
    "lista[2] = 60\n",
    "\n",
    "lista .append(70)\n",
    "\n",
    "lista .pop(0)\n",
    "\n",
    "lista . sort()\n",
    "\n",
    "print(\"crescente:\" ,lista)\n",
    "lista .sort(reverse=True)\n",
    "print (\"decrescente:\" ,lista)\n",
    "\n",
    "soma = sum(lista)\n",
    "media = soma / len(lista)\n",
    "print(f\"soma e {soma} com media {media}\")\n",
    "\n",
    "\n",
    "\n"
   ]
  },
  {
   "cell_type": "code",
   "execution_count": 1,
   "metadata": {},
   "outputs": [
    {
     "name": "stdout",
     "output_type": "stream",
     "text": [
      "tiago\n"
     ]
    }
   ],
   "source": [
    "tupla = (\"carlos\",\"tiago\", \"eder\",\"valmir\")\n",
    "print(tupla[1])"
   ]
  },
  {
   "cell_type": "code",
   "execution_count": 7,
   "metadata": {},
   "outputs": [
    {
     "name": "stdout",
     "output_type": "stream",
     "text": [
      "('carlos', 'marcos', 'eder', 'valmir')\n"
     ]
    }
   ],
   "source": [
    "clientes = (\"carlos\",\"tiago\", \"eder\",\"valmir\")\n",
    "\n",
    "clientes = list(clientes)\n",
    "\n",
    "clientes[1] = \"marcos\"\n",
    "\n",
    "clientes = tuple(clientes)\n",
    "print(nova_tupla)"
   ]
  },
  {
   "cell_type": "code",
   "execution_count": 10,
   "metadata": {},
   "outputs": [
    {
     "name": "stdout",
     "output_type": "stream",
     "text": [
      "carlos está na lista clientes!\n"
     ]
    }
   ],
   "source": [
    "clientes = (\"carlos\",\"tiago\", \"eder\",\"valmir\")\n",
    "\n",
    "cliente = input()\n",
    "\n",
    "if cliente in clientes:\n",
    "    print(f\"{cliente} está na lista clientes!\")\n",
    "else:\n",
    "    print(f\"{cliente} não está na clientes!\")"
   ]
  },
  {
   "cell_type": "code",
   "execution_count": 13,
   "metadata": {},
   "outputs": [
    {
     "name": "stdout",
     "output_type": "stream",
     "text": [
      "('carlo', 'jose', 'valmir', 'vinicius')\n"
     ]
    }
   ],
   "source": [
    "clientes = (\"carlo\",\"jose\")\n",
    "cliente = (\"valmir\", \"vinicius\")\n",
    "print(clientes + cliente)"
   ]
  },
  {
   "cell_type": "code",
   "execution_count": 19,
   "metadata": {},
   "outputs": [
    {
     "name": "stdout",
     "output_type": "stream",
     "text": [
      "0\n"
     ]
    }
   ],
   "source": [
    "clientes = (\"carlo\",\"jose\")\n",
    "print(clientes .index(\"carlo\"))\n",
    "\n"
   ]
  },
  {
   "cell_type": "code",
   "execution_count": 37,
   "metadata": {},
   "outputs": [
    {
     "name": "stdout",
     "output_type": "stream",
     "text": [
      "[12 22 32 42]\n"
     ]
    }
   ],
   "source": [
    "import numpy as np\n",
    "array = np .array([10,20,30,40])\n",
    "print(array + 2)"
   ]
  },
  {
   "cell_type": "code",
   "execution_count": 38,
   "metadata": {},
   "outputs": [
    {
     "name": "stdout",
     "output_type": "stream",
     "text": [
      "[ 30  60  90 120]\n"
     ]
    }
   ],
   "source": [
    "print(array * 3)"
   ]
  },
  {
   "cell_type": "code",
   "execution_count": 39,
   "metadata": {},
   "outputs": [
    {
     "name": "stdout",
     "output_type": "stream",
     "text": [
      "[20 40 60 80]\n"
     ]
    }
   ],
   "source": [
    "print(array + array)"
   ]
  },
  {
   "cell_type": "code",
   "execution_count": 40,
   "metadata": {},
   "outputs": [
    {
     "name": "stdout",
     "output_type": "stream",
     "text": [
      "[10. 20. 30. 40.]\n",
      "media: 25.0\n",
      "desvio padrao: 11.180339887498949\n"
     ]
    }
   ],
   "source": [
    "print((array + array) / 2)\n",
    "print(\"media:\", np.mean(array))\n",
    "print(\"desvio padrao:\", np.std(array))"
   ]
  },
  {
   "cell_type": "code",
   "execution_count": 41,
   "metadata": {},
   "outputs": [
    {
     "name": "stdout",
     "output_type": "stream",
     "text": [
      "[10 20 30 40]\n"
     ]
    }
   ],
   "source": [
    "print(array[array % 2 == 0])"
   ]
  },
  {
   "cell_type": "code",
   "execution_count": 52,
   "metadata": {},
   "outputs": [
    {
     "name": "stdout",
     "output_type": "stream",
     "text": [
      "50\n"
     ]
    }
   ],
   "source": [
    "compras ={\n",
    "    \"carne\": 50,\n",
    "    \"frango\": 30,\n",
    "    \"arroz\": 30\n",
    "}\n",
    "\n",
    "print(compras[\"carne\"])"
   ]
  },
  {
   "cell_type": "code",
   "execution_count": 53,
   "metadata": {},
   "outputs": [
    {
     "name": "stdout",
     "output_type": "stream",
     "text": [
      "{'carne': 60, 'frango': 30, 'arroz': 30, 'tomate': 10}\n"
     ]
    }
   ],
   "source": [
    "compras[\"tomate\"] = 10\n",
    "compras[\"carne\"] = 60\n",
    "print(compras)"
   ]
  },
  {
   "cell_type": "markdown",
   "metadata": {},
   "source": [
    "Percorra o dicionário e exiba cada chave e valor. "
   ]
  },
  {
   "cell_type": "code",
   "execution_count": 54,
   "metadata": {},
   "outputs": [
    {
     "name": "stdout",
     "output_type": "stream",
     "text": [
      "{'carne': 60, 'frango': 30, 'arroz': 30}\n"
     ]
    }
   ],
   "source": [
    "del compras[\"tomate\"]\n",
    "print(compras)"
   ]
  },
  {
   "cell_type": "code",
   "execution_count": 55,
   "metadata": {},
   "outputs": [
    {
     "name": "stdout",
     "output_type": "stream",
     "text": [
      "prudutos:{'carne': 60, 'frango': 30, 'arroz': 30}, preco:60\n",
      "prudutos:{'carne': 60, 'frango': 30, 'arroz': 30}, preco:30\n",
      "prudutos:{'carne': 60, 'frango': 30, 'arroz': 30}, preco:30\n"
     ]
    }
   ],
   "source": [
    "for chaves, valor in compras .items():\n",
    "    print(f\"prudutos:{compras}, preco:{valor}\")"
   ]
  },
  {
   "cell_type": "code",
   "execution_count": 56,
   "metadata": {},
   "outputs": [
    {
     "name": "stdout",
     "output_type": "stream",
     "text": [
      "[('carne', 60), ('frango', 30), ('arroz', 30)]\n"
     ]
    }
   ],
   "source": [
    "lista_tuplas = list(compras .items())\n",
    "print(lista_tuplas)"
   ]
  }
 ],
 "metadata": {
  "kernelspec": {
   "display_name": "Python 3",
   "language": "python",
   "name": "python3"
  },
  "language_info": {
   "codemirror_mode": {
    "name": "ipython",
    "version": 3
   },
   "file_extension": ".py",
   "mimetype": "text/x-python",
   "name": "python",
   "nbconvert_exporter": "python",
   "pygments_lexer": "ipython3",
   "version": "3.13.2"
  }
 },
 "nbformat": 4,
 "nbformat_minor": 2
}
