{
 "cells": [
  {
   "cell_type": "code",
   "execution_count": 13,
   "metadata": {},
   "outputs": [
    {
     "name": "stdout",
     "output_type": "stream",
     "text": [
      "[0 1 2 3 4]\n",
      "[0, 1, 2, 3, 4]\n",
      "<class 'numpy.ndarray'>\n",
      "<class 'list'>\n"
     ]
    }
   ],
   "source": [
    "import numpy as np\n",
    "my_array = np.array([0,1,2,3,4])\n",
    "\n",
    "my_list = [0,1,2,3,4]\n",
    "\n",
    "print(my_array)\n",
    "print(my_list)\n",
    "\n",
    "print(type(my_array))\n",
    "print(type(my_list))\n"
   ]
  },
  {
   "cell_type": "code",
   "execution_count": 14,
   "metadata": {},
   "outputs": [
    {
     "name": "stdout",
     "output_type": "stream",
     "text": [
      "[1 2 3 4 5]\n",
      "[0, 1, 2, 3, 4, 0, 1, 2, 3, 4]\n",
      "[0 2 4 6 8]\n",
      "[0 0 0 0 0]\n"
     ]
    }
   ],
   "source": [
    "print(my_array + 1)\n",
    "#print(my_list + 1)\n",
    "\n",
    "print(my_list + my_list)\n",
    "print(my_array + my_array)\n",
    "\n",
    "print(my_array - my_list)"
   ]
  },
  {
   "cell_type": "code",
   "execution_count": 15,
   "metadata": {},
   "outputs": [
    {
     "name": "stdout",
     "output_type": "stream",
     "text": [
      "[0, 1, 2, 3, 4, 0, 1, 2, 3, 4]\n",
      "[0 2 4 6 8]\n",
      "[0.  0.5 1.  1.5 2. ]\n"
     ]
    }
   ],
   "source": [
    "print(my_list * 2)\n",
    "\n",
    "print(my_array * 2)\n",
    "\n",
    "print(my_array / 2)"
   ]
  },
  {
   "cell_type": "code",
   "execution_count": 23,
   "metadata": {},
   "outputs": [
    {
     "name": "stdout",
     "output_type": "stream",
     "text": [
      "2\n",
      "[1, 2, 3]\n",
      "(0, 1, 2, 3, 4)\n",
      "('python', 3.9, True, [1, 2, 3])\n"
     ]
    }
   ],
   "source": [
    "tupla = (0,1,2,3,4)\n",
    "\n",
    "print(tupla[2])\n",
    "\n",
    "tupla2 = (\"python\", 3.9 , True, [1,2,3])\n",
    "print(tupla2[3])\n",
    "print(tupla)\n",
    "print(tupla2)"
   ]
  },
  {
   "cell_type": "code",
   "execution_count": 24,
   "metadata": {},
   "outputs": [
    {
     "name": "stdout",
     "output_type": "stream",
     "text": [
      "{'nome': 'tiago', 'idade': 20, 'cidade': 'belo horizonte'}\n",
      "20\n",
      "30\n"
     ]
    }
   ],
   "source": [
    "dicionario = {\"nome\": \"tiago\",\n",
    "              \"idade\": 20,\n",
    "              \"cidade\": \"belo horizonte\"\n",
    "}\n",
    "\n",
    "print(dicionario)\n",
    "print(dicionario[\"idade\"])\n",
    "dicionario[\"idade\"] = 30\n",
    "print(dicionario[\"idade\"])\n"
   ]
  }
 ],
 "metadata": {
  "kernelspec": {
   "display_name": "Python 3",
   "language": "python",
   "name": "python3"
  },
  "language_info": {
   "codemirror_mode": {
    "name": "ipython",
    "version": 3
   },
   "file_extension": ".py",
   "mimetype": "text/x-python",
   "name": "python",
   "nbconvert_exporter": "python",
   "pygments_lexer": "ipython3",
   "version": "3.13.2"
  }
 },
 "nbformat": 4,
 "nbformat_minor": 2
}
